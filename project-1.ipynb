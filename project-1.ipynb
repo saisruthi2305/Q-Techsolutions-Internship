{
 "cells": [
  {
   "cell_type": "code",
   "execution_count": 27,
   "id": "cca77b25-f017-443a-a1ee-1e579c5a0a2d",
   "metadata": {},
   "outputs": [],
   "source": [
    "import pandas as pd\n",
    "import numpy as np\n",
    "from sklearn.model_selection import train_test_split\n",
    "from sklearn.ensemble import RandomForestClassifier\n",
    "from sklearn.metrics import accuracy_score, classification_report\n",
    "from sklearn.preprocessing import StandardScaler"
   ]
  },
  {
   "cell_type": "code",
   "execution_count": 29,
   "id": "c9f13cb7-45a3-4f2a-97c2-843011654a7e",
   "metadata": {},
   "outputs": [],
   "source": [
    "\n",
    "# Load the dataset\n",
    "data = pd.read_csv(\"C:\\\\Users\\\\dell\\\\Downloads\\\\heart_disease_dataset.csv\")\n",
    "\n",
    "\n"
   ]
  },
  {
   "cell_type": "code",
   "execution_count": 20,
   "id": "c64d95a7-a5cb-4fa0-ae32-a45247c05e9a",
   "metadata": {},
   "outputs": [
    {
     "name": "stdout",
     "output_type": "stream",
     "text": [
      "Sample data:\n",
      "    Age  Gender  Cholesterol  Blood Pressure  Heart Rate  Smoking  \\\n",
      "0   75  Female          228             119          66  Current   \n",
      "1   48    Male          204             165          62  Current   \n",
      "2   53    Male          234              91          67    Never   \n",
      "3   69  Female          192              90          72  Current   \n",
      "4   62  Female          172             163          93    Never   \n",
      "\n",
      "  Alcohol Intake  Exercise Hours Family History Diabetes Obesity  \\\n",
      "0          Heavy               1             No       No     Yes   \n",
      "1            NaN               5             No       No      No   \n",
      "2          Heavy               3            Yes       No     Yes   \n",
      "3            NaN               4             No      Yes      No   \n",
      "4            NaN               6             No      Yes      No   \n",
      "\n",
      "   Stress Level  Blood Sugar Exercise Induced Angina   Chest Pain Type  \\\n",
      "0             8          119                     Yes   Atypical Angina   \n",
      "1             9           70                     Yes    Typical Angina   \n",
      "2             5          196                     Yes   Atypical Angina   \n",
      "3             7          107                     Yes  Non-anginal Pain   \n",
      "4             2          183                     Yes      Asymptomatic   \n",
      "\n",
      "   Heart Disease  \n",
      "0              1  \n",
      "1              0  \n",
      "2              1  \n",
      "3              0  \n",
      "4              0  \n"
     ]
    }
   ],
   "source": [
    "print(\"Sample data:\\n\", data.head())"
   ]
  },
  {
   "cell_type": "code",
   "execution_count": 30,
   "id": "509d744a-cd6a-49d3-b910-31a16b31f715",
   "metadata": {},
   "outputs": [],
   "source": [
    "# Define features and target\n",
    "# Replace 'Heart_disease' with the name of your target column\n",
    "X = data.drop('Heart Disease', axis=1)\n",
    "y = data['Heart Disease']"
   ]
  },
  {
   "cell_type": "code",
   "execution_count": 31,
   "id": "7b647268-0494-4417-8eae-c322694952b6",
   "metadata": {},
   "outputs": [
    {
     "name": "stdout",
     "output_type": "stream",
     "text": [
      "\n",
      "Feature data types:\n",
      " Age                         int64\n",
      "Gender                     object\n",
      "Cholesterol                 int64\n",
      "Blood Pressure              int64\n",
      "Heart Rate                  int64\n",
      "Smoking                    object\n",
      "Alcohol Intake             object\n",
      "Exercise Hours              int64\n",
      "Family History             object\n",
      "Diabetes                   object\n",
      "Obesity                    object\n",
      "Stress Level                int64\n",
      "Blood Sugar                 int64\n",
      "Exercise Induced Angina    object\n",
      "Chest Pain Type            object\n",
      "dtype: object\n"
     ]
    }
   ],
   "source": [
    "# Check data types of columns in X\n",
    "print(\"\\nFeature data types:\\n\", X.dtypes)"
   ]
  },
  {
   "cell_type": "code",
   "execution_count": 32,
   "id": "6da3e22d-a0ee-4e2b-96ca-b3b7b536d2f5",
   "metadata": {},
   "outputs": [],
   "source": [
    "# Convert categorical columns to numeric using one-hot encoding if necessary\n",
    "X_encoded = pd.get_dummies(X)\n",
    "# Feature scaling\n",
    "scaler = StandardScaler()\n",
    "X_scaled = scaler.fit_transform(X_encoded)\n",
    "\n",
    "# Split data into training and test sets\n",
    "X_train, X_test, y_train, y_test = train_test_split(X_scaled, y, test_size=0.3, random_state=42)\n",
    "\n",
    "# Initialize and train the Random Forest model\n",
    "model = RandomForestClassifier(n_estimators=100, max_depth=10, random_state=42)\n",
    "model.fit(X_train, y_train)\n",
    "\n",
    "# Make predictions\n",
    "y_pred = model.predict(X_test)"
   ]
  },
  {
   "cell_type": "code",
   "execution_count": 33,
   "id": "55765834-2e55-4244-a359-5d6a31c23b22",
   "metadata": {},
   "outputs": [
    {
     "name": "stdout",
     "output_type": "stream",
     "text": [
      "\n",
      "Test Accuracy: 1.0000\n",
      "\n",
      "Classification Report:\n",
      "              precision    recall  f1-score   support\n",
      "\n",
      "           0       1.00      1.00      1.00       171\n",
      "           1       1.00      1.00      1.00       129\n",
      "\n",
      "    accuracy                           1.00       300\n",
      "   macro avg       1.00      1.00      1.00       300\n",
      "weighted avg       1.00      1.00      1.00       300\n",
      "\n"
     ]
    }
   ],
   "source": [
    "# Evaluate the model\n",
    "accuracy = accuracy_score(y_test, y_pred)\n",
    "print(f'\\nTest Accuracy: {accuracy:.4f}')\n",
    "print('\\nClassification Report:')\n",
    "print(classification_report(y_test, y_pred))"
   ]
  },
  {
   "cell_type": "code",
   "execution_count": 35,
   "id": "2d147bb3-9177-4ee0-ac5d-c617674e8186",
   "metadata": {},
   "outputs": [],
   "source": [
    "# Make predictions\n",
    "y_pred = model.predict(X_test)\n",
    "\n",
    "# Create a DataFrame to compare predictions with actual values\n",
    "comparison_df = pd.DataFrame({'Predicted': y_pred,'Actual': y_test.values})"
   ]
  },
  {
   "cell_type": "code",
   "execution_count": 36,
   "id": "006d5851-2a76-4ef0-a7f1-96cdac5e5521",
   "metadata": {
    "scrolled": true
   },
   "outputs": [
    {
     "name": "stdout",
     "output_type": "stream",
     "text": [
      "          Age  Cholesterol  Blood Pressure  Heart Rate  Exercise Hours  \\\n",
      "0    1.571766    -0.033497       -1.489321   -0.627507       -0.862324   \n",
      "1   -0.654802     0.743897        0.292662    0.069336        0.501573   \n",
      "2   -0.654802    -0.759065       -0.313970    1.550127       -0.862324   \n",
      "3   -0.782034     0.657520       -1.299748    0.417757        1.524496   \n",
      "4    1.635382    -0.638137       -0.617287    1.724338       -0.862324   \n",
      "..        ...          ...             ...         ...             ...   \n",
      "295 -0.273104     1.037579        1.013039    0.417757       -1.544272   \n",
      "296 -1.100115     1.348537        0.482235   -0.017769       -0.862324   \n",
      "297  1.635382     1.175782       -0.086483   -0.540402       -1.203298   \n",
      "298  0.490290    -0.724514        0.482235    0.330652       -0.180375   \n",
      "299 -0.082256     0.467490        0.671808    1.724338       -1.544272   \n",
      "\n",
      "     Stress Level  Blood Sugar  Gender_Female  Gender_Male  Smoking_Current  \\\n",
      "0        1.185323    -1.034343       0.994018    -0.994018         1.405770   \n",
      "1        1.538729    -0.216487      -1.006018     1.006018        -0.711354   \n",
      "2       -0.581706     0.764941       0.994018    -0.994018         1.405770   \n",
      "3        0.478511     0.492322       0.994018    -0.994018        -0.711354   \n",
      "4       -0.935112     1.146607       0.994018    -0.994018         1.405770   \n",
      "..            ...          ...            ...          ...              ...   \n",
      "295     -0.228300     1.282916      -1.006018     1.006018         1.405770   \n",
      "296      0.831917    -0.189225      -1.006018     1.006018        -0.711354   \n",
      "297     -1.288517     0.901250       0.994018    -0.994018         1.405770   \n",
      "298     -1.288517    -0.598153       0.994018    -0.994018        -0.711354   \n",
      "299      0.831917     0.764941      -1.006018     1.006018         1.405770   \n",
      "\n",
      "     ...  Obesity_No  Obesity_Yes  Exercise Induced Angina_No  \\\n",
      "0    ...   -1.002002     1.002002                    0.945484   \n",
      "1    ...   -1.002002     1.002002                    0.945484   \n",
      "2    ...   -1.002002     1.002002                    0.945484   \n",
      "3    ...    0.998002    -0.998002                   -1.057660   \n",
      "4    ...   -1.002002     1.002002                    0.945484   \n",
      "..   ...         ...          ...                         ...   \n",
      "295  ...   -1.002002     1.002002                   -1.057660   \n",
      "296  ...   -1.002002     1.002002                   -1.057660   \n",
      "297  ...    0.998002    -0.998002                    0.945484   \n",
      "298  ...   -1.002002     1.002002                   -1.057660   \n",
      "299  ...    0.998002    -0.998002                   -1.057660   \n",
      "\n",
      "     Exercise Induced Angina_Yes  Chest Pain Type_Asymptomatic  \\\n",
      "0                      -0.945484                      1.741338   \n",
      "1                      -0.945484                     -0.574271   \n",
      "2                      -0.945484                     -0.574271   \n",
      "3                       1.057660                     -0.574271   \n",
      "4                      -0.945484                     -0.574271   \n",
      "..                           ...                           ...   \n",
      "295                     1.057660                      1.741338   \n",
      "296                     1.057660                     -0.574271   \n",
      "297                    -0.945484                      1.741338   \n",
      "298                     1.057660                      1.741338   \n",
      "299                     1.057660                     -0.574271   \n",
      "\n",
      "     Chest Pain Type_Atypical Angina  Chest Pain Type_Non-anginal Pain  \\\n",
      "0                          -0.571192                         -0.586588   \n",
      "1                          -0.571192                          1.704773   \n",
      "2                          -0.571192                         -0.586588   \n",
      "3                          -0.571192                          1.704773   \n",
      "4                          -0.571192                          1.704773   \n",
      "..                               ...                               ...   \n",
      "295                        -0.571192                         -0.586588   \n",
      "296                         1.750726                         -0.586588   \n",
      "297                        -0.571192                         -0.586588   \n",
      "298                        -0.571192                         -0.586588   \n",
      "299                         1.750726                         -0.586588   \n",
      "\n",
      "     Chest Pain Type_Typical Angina  Predicted  Actual  \n",
      "0                         -0.577350          1       1  \n",
      "1                         -0.577350          0       0  \n",
      "2                          1.732051          0       0  \n",
      "3                         -0.577350          0       0  \n",
      "4                         -0.577350          1       1  \n",
      "..                              ...        ...     ...  \n",
      "295                       -0.577350          0       0  \n",
      "296                       -0.577350          0       0  \n",
      "297                       -0.577350          1       1  \n",
      "298                       -0.577350          1       1  \n",
      "299                       -0.577350          1       1  \n",
      "\n",
      "[300 rows x 28 columns]\n"
     ]
    }
   ],
   "source": [
    "comparison_df = pd.concat([pd.DataFrame(X_test, columns=X_encoded.columns), comparison_df], axis=1)\n",
    "\n",
    "# Print the comparison\n",
    "print(comparison_df)"
   ]
  }
 ],
 "metadata": {
  "kernelspec": {
   "display_name": "Python 3 (ipykernel)",
   "language": "python",
   "name": "python3"
  },
  "language_info": {
   "codemirror_mode": {
    "name": "ipython",
    "version": 3
   },
   "file_extension": ".py",
   "mimetype": "text/x-python",
   "name": "python",
   "nbconvert_exporter": "python",
   "pygments_lexer": "ipython3",
   "version": "3.11.7"
  }
 },
 "nbformat": 4,
 "nbformat_minor": 5
}
